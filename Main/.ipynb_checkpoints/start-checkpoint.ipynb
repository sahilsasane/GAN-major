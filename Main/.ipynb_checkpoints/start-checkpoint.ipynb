{
 "cells": [
  {
   "cell_type": "markdown",
   "metadata": {},
   "source": [
    "#### Packages"
   ]
  },
  {
   "cell_type": "code",
   "execution_count": 1,
   "metadata": {},
   "outputs": [],
   "source": [
    "import numpy as np\n",
    "import tensorflow as tf\n",
    "import tensorflow.keras.layers as tfl\n",
    "from tensorlayer import *\n",
    "import matplotlib.pyplot as plt\n",
    "from PIL import Image"
   ]
  },
  {
   "cell_type": "markdown",
   "metadata": {},
   "source": [
    "### Network Architecture"
   ]
  },
  {
   "cell_type": "markdown",
   "metadata": {},
   "source": [
    "#### Generator"
   ]
  },
  {
   "cell_type": "code",
   "execution_count": 2,
   "metadata": {},
   "outputs": [],
   "source": [
    "\n",
    "class Generator(tf.keras.Model):\n",
    "    def __init__(self, image_size=512, gf_dim=16, batch_size=64):\n",
    "        super(Generator, self).__init__()\n",
    "        self.gf_dim = gf_dim\n",
    "        self.batch_size = batch_size\n",
    "        self.s2, self.s4, self.s8, self.s16, self.s32, self.s64, self.s128 = [int(image_size / x) for x in (2, 4, 8, 16, 32, 64, 128)]\n",
    "        self.k = 4  \n",
    "\n",
    "        self.dense = tfl.Dense(gf_dim * 64 * self.s128 * self.s128, use_bias=False)\n",
    "        self.reshape = tfl.Reshape((self.s128, self.s128, gf_dim * 64))\n",
    "        self.batch_norm0 = tfl.BatchNormalization()\n",
    "        self.conv2d_transpose_layers = [\n",
    "            tfl.Conv2DTranspose(filters=gf_dim * x, kernel_size=(self.k, self.k), strides=(2, 2), padding='SAME', use_bias=False)\n",
    "            for x in (32, 16, 8, 4, 2, 1)\n",
    "        ]\n",
    "        self.batch_norm_layers = [tfl.BatchNormalization() for _ in range(6)]\n",
    "        self.final_conv = tfl.Conv2DTranspose(filters=3, kernel_size=(self.k, self.k), strides=(2, 2), padding='SAME')\n",
    "\n",
    "    def call(self, inputs, training=None):\n",
    "        x = self.dense(inputs)\n",
    "        x = self.reshape(x)\n",
    "        x = self.batch_norm0(x, training=training)\n",
    "        x = tf.nn.relu(x)\n",
    "        for conv, bn in zip(self.conv2d_transpose_layers, self.batch_norm_layers):\n",
    "            x = conv(x)\n",
    "            x = bn(x, training=training)\n",
    "            x = tf.nn.relu(x)\n",
    "        x = self.final_conv(x)\n",
    "        x = tf.nn.tanh(x)\n",
    "        return x\n"
   ]
  },
  {
   "cell_type": "code",
   "execution_count": null,
   "metadata": {},
   "outputs": [],
   "source": [
    "generator = Generator()\n",
    "z = tf.random.normal([64, 100])  \n",
    "output = generator(z, training=True)"
   ]
  },
  {
   "cell_type": "markdown",
   "metadata": {},
   "source": [
    "#### Discriminator"
   ]
  },
  {
   "cell_type": "code",
   "execution_count": 3,
   "metadata": {},
   "outputs": [],
   "source": [
    "class Discriminator(tf.keras.Model):\n",
    "    def __init__(self, df_dim=32):\n",
    "        super(Discriminator, self).__init__()\n",
    "        self.df_dim = df_dim\n",
    "        self.conv1 = tfl.Conv2D(16, (4, 4), strides=(2, 2), padding='same')\n",
    "        self.leaky1 = tfl.LeakyReLU(0.2)\n",
    "        \n",
    "        self.conv2 = tfl.Conv2D(df_dim, (4, 4), strides=(2, 2), padding='same')\n",
    "        self.bn1 = tfl.BatchNormalization()\n",
    "        self.leaky2 = tfl.LeakyReLU(0.2)\n",
    "        \n",
    "        self.conv3 = tfl.Conv2D(df_dim * 2, (4, 4), strides=(2, 2), padding='same')\n",
    "        self.bn2 = tfl.BatchNormalization()\n",
    "        self.leaky3 = tfl.LeakyReLU(0.2)\n",
    "        \n",
    "        self.conv4 = tfl.Conv2D(df_dim * 4, (4, 4), strides=(2, 2), padding='same')\n",
    "        self.bn3 = tfl.BatchNormalization()\n",
    "        self.leaky4 = tfl.LeakyReLU(0.2)\n",
    "        \n",
    "        self.conv5 = tfl.Conv2D(df_dim * 8, (4, 4), strides=(2, 2), padding='same')\n",
    "        self.bn4 = tfl.BatchNormalization()\n",
    "        self.leaky5 = tfl.LeakyReLU(0.2)\n",
    "        self.pool1 = tfl.MaxPooling2D(pool_size=(4, 4), padding='same')\n",
    "        \n",
    "        self.conv6 = tfl.Conv2D(df_dim * 16, (4, 4), strides=(2, 2), padding='same')\n",
    "        self.bn5 = tfl.BatchNormalization()\n",
    "        self.leaky6 = tfl.LeakyReLU(0.2)\n",
    "        self.pool2 = tfl.MaxPooling2D(pool_size=(2, 2), padding='same')\n",
    "        \n",
    "        self.conv7 = tfl.Conv2D(df_dim * 32, (4, 4), strides=(2, 2), padding='same')\n",
    "        self.bn6 = tfl.BatchNormalization()\n",
    "        self.leaky7 = tfl.LeakyReLU(0.2)\n",
    "        \n",
    "        self.identity = lambda x: x\n",
    "        \n",
    "        self.concat = tfl.Concatenate()\n",
    "        self.dense = tfl.Dense(1)\n",
    "\n",
    "    def call(self, inputs):\n",
    "        x = self.conv1(inputs)\n",
    "        x = self.leaky1(x)\n",
    "        \n",
    "        x = self.conv2(x)\n",
    "        x = self.bn1(x)\n",
    "        x = self.leaky2(x)\n",
    "        \n",
    "        \n",
    "        x = self.conv3(x)\n",
    "        x = self.bn2(x)\n",
    "        x = self.leaky3(x)\n",
    "        \n",
    "        x = self.conv4(x)\n",
    "        x = self.bn3(x)\n",
    "        x = self.leaky4(x)\n",
    "        \n",
    "        \n",
    "        x = self.conv5(x)\n",
    "        x = self.bn4(x)\n",
    "        x = self.leaky5(x)\n",
    "        pool_1 = self.pool1(x)\n",
    "        \n",
    "        x = self.conv6(x)\n",
    "        x = self.bn5(x)\n",
    "        x = self.leaky6(x)\n",
    "        pool_2 = self.pool2(x)\n",
    "        \n",
    "        x = self.conv7(x)\n",
    "        x = self.bn6(x)\n",
    "        x = self.leaky7(x)\n",
    "        \n",
    "        identity = self.identity(x)\n",
    "        \n",
    "        concat = self.concat([tfl.Flatten()(pool_1), tfl.Flatten()(pool_2), tfl.Flatten()(identity), tfl.Flatten()(x)])\n",
    "        \n",
    "        outputs = self.dense(concat)\n",
    "        logits = outputs\n",
    "        outputs = tf.nn.sigmoid(outputs)\n",
    "        \n",
    "        return outputs, logits, x"
   ]
  },
  {
   "cell_type": "code",
   "execution_count": 4,
   "metadata": {},
   "outputs": [],
   "source": [
    "discriminator = Discriminator(df_dim=32)\n",
    "inputs = tf.random.normal([1, 512, 512, 3])\n",
    "outputs, logits, features = discriminator(inputs)"
   ]
  },
  {
   "cell_type": "code",
   "execution_count": 5,
   "metadata": {},
   "outputs": [
    {
     "name": "stdout",
     "output_type": "stream",
     "text": [
      "Model: \"discriminator\"\n",
      "_________________________________________________________________\n",
      " Layer (type)                Output Shape              Param #   \n",
      "=================================================================\n",
      " conv2d (Conv2D)             multiple                  784       \n",
      "                                                                 \n",
      " leaky_re_lu (LeakyReLU)     multiple                  0         \n",
      "                                                                 \n",
      " conv2d_1 (Conv2D)           multiple                  8224      \n",
      "                                                                 \n",
      " batch_normalization (BatchN  multiple                 128       \n",
      " ormalization)                                                   \n",
      "                                                                 \n",
      " leaky_re_lu_1 (LeakyReLU)   multiple                  0         \n",
      "                                                                 \n",
      " conv2d_2 (Conv2D)           multiple                  32832     \n",
      "                                                                 \n",
      " batch_normalization_1 (Batc  multiple                 256       \n",
      " hNormalization)                                                 \n",
      "                                                                 \n",
      " leaky_re_lu_2 (LeakyReLU)   multiple                  0         \n",
      "                                                                 \n",
      " conv2d_3 (Conv2D)           multiple                  131200    \n",
      "                                                                 \n",
      " batch_normalization_2 (Batc  multiple                 512       \n",
      " hNormalization)                                                 \n",
      "                                                                 \n",
      " leaky_re_lu_3 (LeakyReLU)   multiple                  0         \n",
      "                                                                 \n",
      " conv2d_4 (Conv2D)           multiple                  524544    \n",
      "                                                                 \n",
      " batch_normalization_3 (Batc  multiple                 1024      \n",
      " hNormalization)                                                 \n",
      "                                                                 \n",
      " leaky_re_lu_4 (LeakyReLU)   multiple                  0         \n",
      "                                                                 \n",
      " max_pooling2d (MaxPooling2D  multiple                 0         \n",
      " )                                                               \n",
      "                                                                 \n",
      " conv2d_5 (Conv2D)           multiple                  2097664   \n",
      "                                                                 \n",
      " batch_normalization_4 (Batc  multiple                 2048      \n",
      " hNormalization)                                                 \n",
      "                                                                 \n",
      " leaky_re_lu_5 (LeakyReLU)   multiple                  0         \n",
      "                                                                 \n",
      " max_pooling2d_1 (MaxPooling  multiple                 0         \n",
      " 2D)                                                             \n",
      "                                                                 \n",
      " conv2d_6 (Conv2D)           multiple                  8389632   \n",
      "                                                                 \n",
      " batch_normalization_5 (Batc  multiple                 4096      \n",
      " hNormalization)                                                 \n",
      "                                                                 \n",
      " leaky_re_lu_6 (LeakyReLU)   multiple                  0         \n",
      "                                                                 \n",
      " concatenate (Concatenate)   multiple                  0         \n",
      "                                                                 \n",
      " dense (Dense)               multiple                  45057     \n",
      "                                                                 \n",
      "=================================================================\n",
      "Total params: 11,238,001\n",
      "Trainable params: 11,233,969\n",
      "Non-trainable params: 4,032\n",
      "_________________________________________________________________\n"
     ]
    }
   ],
   "source": [
    "discriminator.summary()"
   ]
  },
  {
   "cell_type": "markdown",
   "metadata": {},
   "source": [
    "### GAN Training"
   ]
  },
  {
   "cell_type": "code",
   "execution_count": 6,
   "metadata": {},
   "outputs": [],
   "source": [
    "flags = tf.compat.v1.flags"
   ]
  },
  {
   "cell_type": "code",
   "execution_count": null,
   "metadata": {},
   "outputs": [],
   "source": []
  },
  {
   "cell_type": "code",
   "execution_count": null,
   "metadata": {},
   "outputs": [],
   "source": []
  }
 ],
 "metadata": {
  "kernelspec": {
   "display_name": "tf",
   "language": "python",
   "name": "python3"
  },
  "language_info": {
   "codemirror_mode": {
    "name": "ipython",
    "version": 3
   },
   "file_extension": ".py",
   "mimetype": "text/x-python",
   "name": "python",
   "nbconvert_exporter": "python",
   "pygments_lexer": "ipython3",
   "version": "3.9.18"
  }
 },
 "nbformat": 4,
 "nbformat_minor": 2
}
