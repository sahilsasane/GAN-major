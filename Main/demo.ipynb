{
 "cells": [
  {
   "cell_type": "code",
   "execution_count": 11,
   "metadata": {},
   "outputs": [],
   "source": [
    "import os\n",
    "import shutil\n",
    "import random"
   ]
  },
  {
   "cell_type": "code",
   "execution_count": 12,
   "metadata": {},
   "outputs": [
    {
     "data": {
      "text/plain": [
       "['test', 'train', 'val']"
      ]
     },
     "execution_count": 12,
     "metadata": {},
     "output_type": "execute_result"
    }
   ],
   "source": [
    "os.listdir('Datasets\\main_chest_xray')"
   ]
  },
  {
   "cell_type": "code",
   "execution_count": 13,
   "metadata": {},
   "outputs": [],
   "source": [
    "base_dir = 'Datasets/main_chest_xray'\n",
    "train_dir_normal = os.path.join(base_dir, 'train/NORMAL')\n",
    "train_dir_pneumonia = os.path.join(base_dir, 'train/PNEUMONIA')\n",
    "test_dir_normal = os.path.join(base_dir, 'test/NORMAL')\n",
    "test_dir_pneumonia = os.path.join(base_dir, 'test/PNEUMONIA')\n",
    "\n",
    "def move_images(src_dir, dest_dir, num_images):\n",
    "    images = os.listdir(src_dir)\n",
    "    images_to_move = random.sample(images, num_images)\n",
    "    for image in images_to_move:\n",
    "        shutil.move(os.path.join(src_dir, image), os.path.join(dest_dir, image))\n",
    "\n",
    "def balance_class(src_dir, dest_dir, target_num):\n",
    "    current_num = len(os.listdir(dest_dir))\n",
    "    images_needed = target_num - current_num\n",
    "    if images_needed > 0:\n",
    "        move_images(src_dir, dest_dir, images_needed)"
   ]
  },
  {
   "cell_type": "code",
   "execution_count": 14,
   "metadata": {},
   "outputs": [],
   "source": [
    "balance_class(train_dir_normal, test_dir_normal, 600)\n",
    "balance_class(train_dir_pneumonia, test_dir_pneumonia, 600)"
   ]
  },
  {
   "cell_type": "code",
   "execution_count": 15,
   "metadata": {},
   "outputs": [
    {
     "name": "stdout",
     "output_type": "stream",
     "text": [
      "Balanced test/NORMAL: 600 images\n",
      "Balanced test/PNEUMONIA: 600 images\n"
     ]
    }
   ],
   "source": [
    "print(f\"Balanced test/NORMAL: {len(os.listdir(test_dir_normal))} images\")\n",
    "print(f\"Balanced test/PNEUMONIA: {len(os.listdir(test_dir_pneumonia))} images\")"
   ]
  },
  {
   "cell_type": "code",
   "execution_count": null,
   "metadata": {},
   "outputs": [],
   "source": []
  }
 ],
 "metadata": {
  "kernelspec": {
   "display_name": "Python 3",
   "language": "python",
   "name": "python3"
  },
  "language_info": {
   "codemirror_mode": {
    "name": "ipython",
    "version": 3
   },
   "file_extension": ".py",
   "mimetype": "text/x-python",
   "name": "python",
   "nbconvert_exporter": "python",
   "pygments_lexer": "ipython3",
   "version": "3.11.5"
  }
 },
 "nbformat": 4,
 "nbformat_minor": 2
}
