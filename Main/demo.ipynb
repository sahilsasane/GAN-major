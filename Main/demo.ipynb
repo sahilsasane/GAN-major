{
 "cells": [
  {
   "cell_type": "markdown",
   "metadata": {},
   "source": [
    "#### Required\n",
    "\n",
    "| Comparison                        | Training | Testing | Total |\n",
    "|-----------------------------------|----------|---------|-------|\n",
    "| Pneumonia vs. Normal              | 1000     | 1000    | 2000  |\n",
    "| COVID19 vs. Pneumonia             | 1000     | 1000    | 2000  |\n",
    "| COVID19 vs. Non-COVID19 (X-ray)   | 2632     | 3240    | 5872  |\n"
   ]
  },
  {
   "cell_type": "markdown",
   "metadata": {},
   "source": [
    "#### Available\n",
    "\n",
    "| Comparison                        | Training | Testing | Total |\n",
    "|-----------------------------------|----------|---------|-------|\n",
    "| Pneumonia vs. Normal              | 1219     | 787     | 2006  |\n",
    "| COVID19 vs. Pneumonia             | 0        | 0       | 0     |\n",
    "| COVID19 vs. Non-COVID19 (X-ray)   | 1610     | 1068    | 2678  |\n"
   ]
  },
  {
   "cell_type": "code",
   "execution_count": 1,
   "metadata": {},
   "outputs": [],
   "source": [
    "import os\n",
    "from PIL import Image"
   ]
  },
  {
   "cell_type": "code",
   "execution_count": 16,
   "metadata": {},
   "outputs": [],
   "source": [
    "size = 1024"
   ]
  },
  {
   "cell_type": "code",
   "execution_count": 17,
   "metadata": {},
   "outputs": [
    {
     "name": "stdout",
     "output_type": "stream",
     "text": [
      "Pneumonia v/s Normal Dataset - Mendeley data\n",
      "Count of Normal Images with 1024x1024 resolution images:  1224\n"
     ]
    }
   ],
   "source": [
    "directory = os.getcwd() + '/Datasets/C. Pneumonia vs. Normal Dataset/chest_xray/train/NORMAL'\n",
    "count = 0\n",
    "for f in os.listdir(directory):\n",
    "    if f.endswith(('.png', '.jpg', '.jpeg')):\n",
    "        img = Image.open(os.path.join(directory, f))\n",
    "        if img.size[0] >= size and img.size[1] >= size:\n",
    "            count+=1\n",
    "print(\"Pneumonia v/s Normal Dataset - Mendeley data\")           \n",
    "print(f\"Count of Normal Images with {size}x{size} resolution images: \",count)"
   ]
  },
  {
   "cell_type": "code",
   "execution_count": 18,
   "metadata": {},
   "outputs": [
    {
     "name": "stdout",
     "output_type": "stream",
     "text": [
      "Pneumonia v/s Normal Dataset - Mendeley data\n",
      "Count of Pneumonia Images with 1024x1024 resolution images:  814\n"
     ]
    }
   ],
   "source": [
    "directory = os.getcwd() + '/Datasets/C. Pneumonia vs. Normal Dataset/chest_xray/train/PNEUMONIA'\n",
    "count = 0\n",
    "for f in os.listdir(directory):\n",
    "    if f.endswith(('.png', '.jpg', '.jpeg')):\n",
    "        img = Image.open(os.path.join(directory, f))\n",
    "        if img.size[0] >= size and img.size[1] >= size:\n",
    "            count+=1\n",
    "print(\"Pneumonia v/s Normal Dataset - Mendeley data\")\n",
    "print(f\"Count of Pneumonia Images with {size}x{size} resolution images: \",count)"
   ]
  },
  {
   "cell_type": "code",
   "execution_count": 19,
   "metadata": {},
   "outputs": [
    {
     "name": "stdout",
     "output_type": "stream",
     "text": [
      "D. COVID-19 vs. Pneumonia Dataset\n",
      "Count of Covid Images with 1024x1024 resolution images:  0\n",
      "Count of Normal Images with 1024x1024 resolution images:  0\n",
      "Count of Viral Pneumonia Images with 1024x1024 resolution images:  0\n"
     ]
    }
   ],
   "source": [
    "dir1 = os.getcwd() + '/Datasets/D. COVID-19 vs. Pneumonia Dataset/COVID/images'\n",
    "dir2 = os.getcwd() + '/Datasets/D. COVID-19 vs. Pneumonia Dataset/Normal/images'\n",
    "dir3 = os.getcwd() + '/Datasets/D. COVID-19 vs. Pneumonia Dataset/Viral Pneumonia/images'\n",
    "count1 = 0\n",
    "count2 = 0\n",
    "count3 = 0\n",
    "\n",
    "for f in os.listdir(dir1):\n",
    "    if f.endswith(('.png', '.jpg', '.jpeg')):\n",
    "        img = Image.open(os.path.join(dir1, f))\n",
    "        if img.size[0] >= size and img.size[1] >= size:\n",
    "            count1 += 1\n",
    "            \n",
    "for f in os.listdir(dir2):\n",
    "    if f.endswith(('.png', '.jpg', '.jpeg')):\n",
    "        img = Image.open(os.path.join(dir2, f))\n",
    "        if img.size[0] >= size and img.size[1] >= size:\n",
    "            count2 += 1\n",
    "            \n",
    "for f in os.listdir(dir2):\n",
    "    if f.endswith(('.png', '.jpg', '.jpeg')):\n",
    "        img = Image.open(os.path.join(dir2, f))\n",
    "        if img.size[0] >= size and img.size[1] >= size:\n",
    "            count2 += 1\n",
    "            \n",
    "print(\"D. COVID-19 vs. Pneumonia Dataset\")\n",
    "print(f\"Count of Covid Images with {size}x{size} resolution images: \",count1)\n",
    "print(f\"Count of Normal Images with {size}x{size} resolution images: \",count2)\n",
    "print(f\"Count of Viral Pneumonia Images with {size}x{size} resolution images: \",count3)"
   ]
  },
  {
   "cell_type": "code",
   "execution_count": 21,
   "metadata": {},
   "outputs": [
    {
     "name": "stdout",
     "output_type": "stream",
     "text": [
      "E. & F. X-ray and CT\n",
      "Count of Non-covid Images with 1024x1024 resolution images:  5235\n",
      "Count of Covid Images with 1024x1024 resolution images:  2254\n"
     ]
    }
   ],
   "source": [
    "dir1 = os.getcwd() + '/Datasets/E. & F. X-ray and CT/X-ray/Non-COVID'\n",
    "dir2 = os.getcwd() + '/Datasets/E. & F. X-ray and CT/X-ray/COVID'\n",
    "count1 = 0\n",
    "count2 = 0\n",
    "\n",
    "for f in os.listdir(dir1):\n",
    "    if f.endswith(('.png', '.jpg', '.jpeg')):\n",
    "        img = Image.open(os.path.join(dir1, f))\n",
    "        if img.size[0] >= size and img.size[1] >= size:\n",
    "            count1 += 1\n",
    "            \n",
    "for f in os.listdir(dir2):\n",
    "    if f.endswith(('.png', '.jpg', '.jpeg')):\n",
    "        img = Image.open(os.path.join(dir2, f))\n",
    "        if img.size[0] >= size and img.size[1] >= size:\n",
    "            count2 += 1\n",
    "\n",
    "            \n",
    "print(\"E. & F. X-ray\")\n",
    "print(f\"Count of Non-covid Images with {size}x{size} resolution images: \",count1)\n",
    "print(f\"Count of Covid Images with {size}x{size} resolution images: \",count2)"
   ]
  }
 ],
 "metadata": {
  "kernelspec": {
   "display_name": "Python 3",
   "language": "python",
   "name": "python3"
  },
  "language_info": {
   "codemirror_mode": {
    "name": "ipython",
    "version": 3
   },
   "file_extension": ".py",
   "mimetype": "text/x-python",
   "name": "python",
   "nbconvert_exporter": "python",
   "pygments_lexer": "ipython3",
   "version": "3.11.5"
  }
 },
 "nbformat": 4,
 "nbformat_minor": 2
}
